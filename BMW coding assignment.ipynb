{
 "cells": [
  {
   "cell_type": "markdown",
   "id": "4d23ea0e",
   "metadata": {},
   "source": [
    "# Timestamp hour difference calculator"
   ]
  },
  {
   "cell_type": "markdown",
   "id": "3f8f1250",
   "metadata": {},
   "source": [
    "Description:\n",
    "The program includes two functions \"calculate_full_hour_difference\" and \"calculate_working _hour_difference\" that calculate hour\n",
    "differences between two timestamps.The first function calculates full hour differences  between timestamps, while the second \n",
    "function considers only working hours on weekdays to calculate hour difference.\n",
    "\n",
    "Usage:\n",
    "This program can be utilized in various scenarios where determining the hour difference between timestamps is required. It is useful for applications involving time tracking, scheduling, or calculating elapsed time."
   ]
  },
  {
   "cell_type": "code",
   "execution_count": 8,
   "id": "a0283a75",
   "metadata": {},
   "outputs": [
    {
     "name": "stdout",
     "output_type": "stream",
     "text": [
      "Full hour difference: 1\n"
     ]
    }
   ],
   "source": [
    "from datetime import datetime\n",
    "\n",
    "def calculate_full_hour_difference(timestamp1, timestamp2):\n",
    "    format = \"%Y/%m/%d %H:%M\"\n",
    "    datetime1 = datetime.strptime(timestamp1, format)\n",
    "    datetime2 = datetime.strptime(timestamp2, format)\n",
    "    \n",
    "    # Calculate the time difference in hours\n",
    "    time_difference = (datetime2 - datetime1).total_seconds() / 3600\n",
    "    \n",
    "    # Round the result to the nearest integer\n",
    "    rounded_difference = round(time_difference)\n",
    "    \n",
    "    return rounded_difference\n",
    "\n",
    "# Example usage of calculate_full_hour_difference function\n",
    "timestamp1 = \"2022/02/15 00:05\"\n",
    "timestamp2 = \"2022/02/15 01:00\"\n",
    "full_hour_difference = calculate_full_hour_difference(timestamp1, timestamp2)\n",
    "print(\"Full hour difference:\", full_hour_difference)"
   ]
  },
  {
   "cell_type": "code",
   "execution_count": 9,
   "id": "3c5e17f5",
   "metadata": {},
   "outputs": [
    {
     "name": "stdout",
     "output_type": "stream",
     "text": [
      "Working hour difference: 8\n"
     ]
    }
   ],
   "source": [
    "def calculate_working_hour_difference(timestamp1, timestamp2):\n",
    "    format = \"%Y/%m/%d %H:%M\"\n",
    "    datetime1 = datetime.strptime(timestamp1, format)\n",
    "    datetime2 = datetime.strptime(timestamp2, format)\n",
    "    \n",
    "    # Seting the start and end times for working hours\n",
    "    working_start = datetime1.replace(hour=9, minute=0, second=0, microsecond=0)\n",
    "    working_end = datetime1.replace(hour=17, minute=0, second=0, microsecond=0)\n",
    "    \n",
    "    # Checking if either timestamp falls on a weekend\n",
    "    if datetime1.weekday() >= 5 or datetime2.weekday() >= 5:\n",
    "        return 0  # Return 0 if either timestamp is on a weekend\n",
    "    \n",
    "    # Adjusting the start and end times if they fall outside working hours\n",
    "    if datetime1 < working_start:\n",
    "        datetime1 = working_start\n",
    "    if datetime2 > working_end:\n",
    "        datetime2 = working_end\n",
    "    \n",
    "    # Calculating the time difference in hours\n",
    "    time_difference = (datetime2 - datetime1).total_seconds() / 3600\n",
    "    \n",
    "    # Round the result to the nearest integer\n",
    "    rounded_difference = round(time_difference)\n",
    "    \n",
    "    return rounded_difference\n",
    "\n",
    "\n",
    "# Example usage of calculate_working_hour_difference function\n",
    "timestamp1 = \"2023/05/26 08:30\"\n",
    "timestamp2 = \"2023/05/26 16:45\"\n",
    "working_hour_difference = calculate_working_hour_difference(timestamp1, timestamp2)\n",
    "print(\"Working hour difference:\", working_hour_difference)\n"
   ]
  },
  {
   "cell_type": "code",
   "execution_count": null,
   "id": "f137dd53",
   "metadata": {},
   "outputs": [],
   "source": []
  }
 ],
 "metadata": {
  "kernelspec": {
   "display_name": "Python 3 (ipykernel)",
   "language": "python",
   "name": "python3"
  },
  "language_info": {
   "codemirror_mode": {
    "name": "ipython",
    "version": 3
   },
   "file_extension": ".py",
   "mimetype": "text/x-python",
   "name": "python",
   "nbconvert_exporter": "python",
   "pygments_lexer": "ipython3",
   "version": "3.9.13"
  }
 },
 "nbformat": 4,
 "nbformat_minor": 5
}
